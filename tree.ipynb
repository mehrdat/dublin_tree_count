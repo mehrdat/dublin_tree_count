{
 "cells": [
  {
   "cell_type": "code",
   "execution_count": 25,
   "metadata": {},
   "outputs": [],
   "source": [
    "import cv2 as cv\n",
    "import numpy as np\n",
    "from skimage.feature import hog\n",
    "import pandas as pd\n",
    "import numpy as np\n",
    "#\"/Users/Mehr/Documents/projects/tree/1.jpg\"\n",
    "import cv2 as cv\n"
   ]
  },
  {
   "cell_type": "code",
   "execution_count": 57,
   "metadata": {},
   "outputs": [],
   "source": [
    "from skimage import io, transform, img_as_ubyte\n",
    "import os\n",
    "import numpy as np\n",
    "\n",
    "def resize_image_skimage(input_dir, output_dir, target_size):\n",
    "    if not os.path.exists(output_dir):\n",
    "        os.makedirs(output_dir)\n",
    "\n",
    "    for filename in os.listdir(input_dir):\n",
    "        if filename.lower().endswith(('.jpg', '.jpeg', '.png')):\n",
    "            image_path = os.path.join(input_dir, filename)\n",
    "            try:\n",
    "                image = io.imread(image_path)\n",
    "                resized_image = transform.resize(image, target_size, anti_aliasing=True)\n",
    "                \n",
    "                # Convert RGBA to RGB\n",
    "                if resized_image.shape[-1] == 4:\n",
    "                    resized_image = resized_image[..., :3]\n",
    "                \n",
    "                resized_image = img_as_ubyte(resized_image)\n",
    "                output_path = os.path.join(output_dir, os.path.splitext(filename)[0] + \".jpg\")\n",
    "                io.imsave(output_path, resized_image)\n",
    "            except Exception as e:\n",
    "                print(f\"Error processing {image_path}: {e}\")\n",
    "\n",
    "input_directory = '/Users/Mehr/Documents/projects/tree/'\n",
    "output_directory = '/Users/Mehr/Documents/projects/tree/resized/'\n",
    "target_size = (224, 224)  # Example target size\n",
    "\n",
    "#resize_image_skimage(input_directory, output_directory, target_size)\n"
   ]
  },
  {
   "cell_type": "code",
   "execution_count": 49,
   "metadata": {},
   "outputs": [
    {
     "name": "stdout",
     "output_type": "stream",
     "text": [
      "Features extracted successfully\n"
     ]
    }
   ],
   "source": [
    "import cv2 as cv\n",
    "from skimage.feature import hog\n",
    "import os\n",
    "\n",
    "def extract(path):\n",
    "    image_path = os.path.join(\"/Users/Mehr/Documents/projects/tree/resized/\", path)\n",
    "    image = cv.imread(image_path)\n",
    "\n",
    "    # Check if the image was loaded successfully\n",
    "    if image is None:\n",
    "        print(f\"Error: Could not load image at {image_path}\")\n",
    "        return None\n",
    "\n",
    "    # Convert to grayscale\n",
    "    image = cv.cvtColor(image, cv.COLOR_BGR2GRAY)\n",
    "    features, hog_image = hog(image, pixels_per_cell=(16, 16), cells_per_block=(2, 2), visualize=True, feature_vector=True)\n",
    "    return features\n",
    "\n",
    "# Example usage\n",
    "path = \"1.jpg\"  # Replace with your actual image filename\n",
    "features = extract(path)\n",
    "if features is not None:\n",
    "    print(\"Features extracted successfully\")\n",
    "else:\n",
    "    print(\"Failed to extract features\")\n"
   ]
  },
  {
   "cell_type": "code",
   "execution_count": 52,
   "metadata": {},
   "outputs": [
    {
     "name": "stdout",
     "output_type": "stream",
     "text": [
      "Mean Squared Error: 0.9025000000000054\n"
     ]
    }
   ],
   "source": [
    "import cv2\n",
    "import numpy as np\n",
    "import pandas as pd\n",
    "from skimage.feature import hog\n",
    "from sklearn.model_selection import train_test_split\n",
    "from sklearn.ensemble import RandomForestRegressor\n",
    "from sklearn.metrics import mean_squared_error,r2_score\n",
    "\n",
    "# Define the feature extraction function\n",
    "def extract_features(image_path):\n",
    "    image = cv2.imread(image_path)\n",
    "    image = cv2.cvtColor(image, cv2.COLOR_BGR2GRAY)\n",
    "    features, hog_image = hog(image, pixels_per_cell=(16, 16), cells_per_block=(2, 2), visualize=True, feature_vector=True)\n",
    "    return features\n",
    "\n",
    "# Example data\n",
    "# data = pd.DataFrame({\n",
    "#     'filenames': ['image1.jpg', 'image2.jpg'],  # Replace with your actual filenames\n",
    "#     'tree_count': [5, 3]  # Replace with your actual tree counts\n",
    "# })\n",
    "\n",
    "data=pd.read_csv(\"/Users/Mehr/Documents/projects/tree/resized/tree.csv\")\n",
    "data=data[:4]\n",
    "\n",
    "def extract(path):\n",
    "    image=cv.imread(\"/Users/Mehr/Documents/projects/tree/resized/\"+path)\n",
    "    image=cv.cvtColor(image,cv.COLOR_BGR2GRAY)\n",
    "    features, hog_image = hog(image, pixels_per_cell=(16, 16), cells_per_block=(2, 2), visualize=True,feature_vector=True)\n",
    "    return features\n",
    "\n",
    "# Extract features and check lengths\n",
    "data['features'] = data['filenames'].apply(extract)\n",
    "feature_lengths = data['features'].apply(len)\n",
    "\n",
    "# Ensure all feature vectors have the same length\n",
    "if len(feature_lengths.unique()) == 1:\n",
    "    X = np.array(data['features'].tolist())\n",
    "    y = data['tree_count'].values\n",
    "    \n",
    "    # Split the data\n",
    "    X_train, X_test, y_train, y_test = train_test_split(X, y, test_size=0.2, random_state=42)\n",
    "    \n",
    "    # Train the model\n",
    "    model = RandomForestRegressor(n_estimators=100)\n",
    "    model.fit(X_train, y_train)\n",
    "    \n",
    "    # Make predictions\n",
    "    predictions = model.predict(X_test)\n",
    "    mse = mean_squared_error(y_test, predictions)\n",
    "    print(f\"Mean Squared Error: {mse}\")\n",
    "else:\n",
    "    print(\"Inconsistent feature lengths detected:\", feature_lengths.unique())\n"
   ]
  },
  {
   "cell_type": "code",
   "execution_count": 55,
   "metadata": {},
   "outputs": [
    {
     "name": "stderr",
     "output_type": "stream",
     "text": [
      "[ WARN:0@43152.063] global loadsave.cpp:241 findDecoder imread_('/Users/Mehr/Documents/projects/tree/resized//Users/Mehr/Documents/projects/tree/resized/test.jpg'): can't open/read file: check file path/integrity\n"
     ]
    },
    {
     "ename": "error",
     "evalue": "OpenCV(4.10.0) /private/var/folders/vc/3kfwh15d7234657gp2jqxqj80000gn/T/pip-install-48fn8dze/opencv-python_137120336ea840aa8b8cceab99cf30f3/opencv/modules/imgproc/src/color.cpp:196: error: (-215:Assertion failed) !_src.empty() in function 'cvtColor'\n",
     "output_type": "error",
     "traceback": [
      "\u001b[0;31m---------------------------------------------------------------------------\u001b[0m",
      "\u001b[0;31merror\u001b[0m                                     Traceback (most recent call last)",
      "Cell \u001b[0;32mIn[55], line 10\u001b[0m\n\u001b[1;32m      7\u001b[0m new_image_path \u001b[38;5;241m=\u001b[39m \u001b[38;5;124m\"\u001b[39m\u001b[38;5;124m/Users/Mehr/Documents/projects/tree/resized/test.jpg\u001b[39m\u001b[38;5;124m\"\u001b[39m\n\u001b[1;32m      9\u001b[0m     \u001b[38;5;66;03m# Predict the tree count in the new image\u001b[39;00m\n\u001b[0;32m---> 10\u001b[0m predicted_count \u001b[38;5;241m=\u001b[39m \u001b[43mpredict_tree_count\u001b[49m\u001b[43m(\u001b[49m\u001b[43mnew_image_path\u001b[49m\u001b[43m,\u001b[49m\u001b[43m \u001b[49m\u001b[43mmodel\u001b[49m\u001b[43m)\u001b[49m\n\u001b[1;32m     11\u001b[0m \u001b[38;5;28mprint\u001b[39m(\u001b[38;5;124mf\u001b[39m\u001b[38;5;124m\"\u001b[39m\u001b[38;5;124mPredicted number of trees in the new image: \u001b[39m\u001b[38;5;132;01m{\u001b[39;00mpredicted_count\u001b[38;5;132;01m}\u001b[39;00m\u001b[38;5;124m\"\u001b[39m)\n",
      "Cell \u001b[0;32mIn[55], line 2\u001b[0m, in \u001b[0;36mpredict_tree_count\u001b[0;34m(image_path, model)\u001b[0m\n\u001b[1;32m      1\u001b[0m \u001b[38;5;28;01mdef\u001b[39;00m \u001b[38;5;21mpredict_tree_count\u001b[39m(image_path,model):\n\u001b[0;32m----> 2\u001b[0m     features\u001b[38;5;241m=\u001b[39m\u001b[43mextract\u001b[49m\u001b[43m(\u001b[49m\u001b[43mimage_path\u001b[49m\u001b[43m)\u001b[49m\n\u001b[1;32m      3\u001b[0m     features\u001b[38;5;241m=\u001b[39mnp\u001b[38;5;241m.\u001b[39marray(features)\u001b[38;5;241m.\u001b[39mreshape(\u001b[38;5;241m1\u001b[39m,\u001b[38;5;241m-\u001b[39m\u001b[38;5;241m1\u001b[39m)\n\u001b[1;32m      4\u001b[0m     prediction\u001b[38;5;241m=\u001b[39mmodel\u001b[38;5;241m.\u001b[39mpredict(features)\n",
      "Cell \u001b[0;32mIn[52], line 27\u001b[0m, in \u001b[0;36mextract\u001b[0;34m(path)\u001b[0m\n\u001b[1;32m     25\u001b[0m \u001b[38;5;28;01mdef\u001b[39;00m \u001b[38;5;21mextract\u001b[39m(path):\n\u001b[1;32m     26\u001b[0m     image\u001b[38;5;241m=\u001b[39mcv\u001b[38;5;241m.\u001b[39mimread(\u001b[38;5;124m\"\u001b[39m\u001b[38;5;124m/Users/Mehr/Documents/projects/tree/resized/\u001b[39m\u001b[38;5;124m\"\u001b[39m\u001b[38;5;241m+\u001b[39mpath)\n\u001b[0;32m---> 27\u001b[0m     image\u001b[38;5;241m=\u001b[39m\u001b[43mcv\u001b[49m\u001b[38;5;241;43m.\u001b[39;49m\u001b[43mcvtColor\u001b[49m\u001b[43m(\u001b[49m\u001b[43mimage\u001b[49m\u001b[43m,\u001b[49m\u001b[43mcv\u001b[49m\u001b[38;5;241;43m.\u001b[39;49m\u001b[43mCOLOR_BGR2GRAY\u001b[49m\u001b[43m)\u001b[49m\n\u001b[1;32m     28\u001b[0m     features, hog_image \u001b[38;5;241m=\u001b[39m hog(image, pixels_per_cell\u001b[38;5;241m=\u001b[39m(\u001b[38;5;241m16\u001b[39m, \u001b[38;5;241m16\u001b[39m), cells_per_block\u001b[38;5;241m=\u001b[39m(\u001b[38;5;241m2\u001b[39m, \u001b[38;5;241m2\u001b[39m), visualize\u001b[38;5;241m=\u001b[39m\u001b[38;5;28;01mTrue\u001b[39;00m,feature_vector\u001b[38;5;241m=\u001b[39m\u001b[38;5;28;01mTrue\u001b[39;00m)\n\u001b[1;32m     29\u001b[0m     \u001b[38;5;28;01mreturn\u001b[39;00m features\n",
      "\u001b[0;31merror\u001b[0m: OpenCV(4.10.0) /private/var/folders/vc/3kfwh15d7234657gp2jqxqj80000gn/T/pip-install-48fn8dze/opencv-python_137120336ea840aa8b8cceab99cf30f3/opencv/modules/imgproc/src/color.cpp:196: error: (-215:Assertion failed) !_src.empty() in function 'cvtColor'\n"
     ]
    }
   ],
   "source": [
    "def predict_tree_count(image_path,model):\n",
    "    features=extract(image_path)\n",
    "    features=np.array(features).reshape(1,-1)\n",
    "    prediction=model.predict(features)\n",
    "    return prediction[0]\n",
    "\n",
    "new_image_path = \"/Users/Mehr/Documents/projects/tree/resized/test.jpg\"\n",
    "    \n",
    "    # Predict the tree count in the new image\n",
    "predicted_count = predict_tree_count(new_image_path, model)\n",
    "print(f\"Predicted number of trees in the new image: {predicted_count}\")\n"
   ]
  }
 ],
 "metadata": {
  "kernelspec": {
   "display_name": "Python 3",
   "language": "python",
   "name": "python3"
  },
  "language_info": {
   "codemirror_mode": {
    "name": "ipython",
    "version": 3
   },
   "file_extension": ".py",
   "mimetype": "text/x-python",
   "name": "python",
   "nbconvert_exporter": "python",
   "pygments_lexer": "ipython3",
   "version": "3.11.7"
  }
 },
 "nbformat": 4,
 "nbformat_minor": 2
}
